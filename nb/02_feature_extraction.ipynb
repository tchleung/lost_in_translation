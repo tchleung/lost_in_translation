{
 "cells": [
  {
   "cell_type": "markdown",
   "metadata": {},
   "source": [
    "# Lost in Translation\n",
    "## Classifying Speech Language using Deep Learning "
   ]
  },
  {
   "cell_type": "markdown",
   "metadata": {},
   "source": [
    "### Part 2 - Feature Extration"
   ]
  },
  {
   "cell_type": "markdown",
   "metadata": {},
   "source": [
    "#### Import Library"
   ]
  },
  {
   "cell_type": "code",
   "execution_count": 1,
   "metadata": {},
   "outputs": [],
   "source": [
    "import os\n",
    "import numpy as np\n",
    "import pandas as pd\n",
    "import IPython.display as ipd\n",
    "import librosa\n",
    "import librosa.display\n",
    "from scipy.io import wavfile"
   ]
  },
  {
   "cell_type": "markdown",
   "metadata": {},
   "source": [
    "#### Extract MFCC"
   ]
  },
  {
   "cell_type": "code",
   "execution_count": 21,
   "metadata": {},
   "outputs": [],
   "source": [
    "def extract_features(file_name):\n",
    "   \n",
    "    try:\n",
    "        audio, sample_rate = librosa.load(file_name) \n",
    "        X = librosa.feature.mfcc(y=audio, sr=sample_rate, n_mfcc=40)\n",
    "        X_scaled = np.mean(X.T,axis=0)\n",
    "        \n",
    "    except Exception as e:\n",
    "        print(\"Error encountered while parsing file: \", file_name)\n",
    "        return None \n",
    "     \n",
    "    return X_scaled"
   ]
  },
  {
   "cell_type": "code",
   "execution_count": 41,
   "metadata": {},
   "outputs": [],
   "source": [
    "def save_feature(language, feature_lst):\n",
    "    path = \"../data/\"\n",
    "    lang_dir = os.path.join(path, language)\n",
    "    files = os.listdir(lang_dir)\n",
    "    for audio_track in files:\n",
    "        if audio_track[-3:] == 'wav':\n",
    "            track = os.path.join(lang_dir, audio_track)\n",
    "            features = extract_features(track)\n",
    "            feature_lst.append([features,language])\n",
    "        else:\n",
    "            continue"
   ]
  },
  {
   "cell_type": "code",
   "execution_count": 68,
   "metadata": {},
   "outputs": [],
   "source": [
    "# I maunally called the function on the languages one-by-one in case a for-loop gets stuck\n",
    "language = 'spanish'\n",
    "feature_lst10 = []\n",
    "save_feature(language, feature_lst10)"
   ]
  },
  {
   "cell_type": "code",
   "execution_count": 69,
   "metadata": {},
   "outputs": [],
   "source": [
    "# I dumped the extracted features into a dataframe\n",
    "df10 = pd.DataFrame(feature_lst10,columns=['features','label'])"
   ]
  },
  {
   "cell_type": "code",
   "execution_count": 70,
   "metadata": {},
   "outputs": [
    {
     "data": {
      "text/html": [
       "<div>\n",
       "<style scoped>\n",
       "    .dataframe tbody tr th:only-of-type {\n",
       "        vertical-align: middle;\n",
       "    }\n",
       "\n",
       "    .dataframe tbody tr th {\n",
       "        vertical-align: top;\n",
       "    }\n",
       "\n",
       "    .dataframe thead th {\n",
       "        text-align: right;\n",
       "    }\n",
       "</style>\n",
       "<table border=\"1\" class=\"dataframe\">\n",
       "  <thead>\n",
       "    <tr style=\"text-align: right;\">\n",
       "      <th></th>\n",
       "      <th>features</th>\n",
       "      <th>label</th>\n",
       "    </tr>\n",
       "  </thead>\n",
       "  <tbody>\n",
       "    <tr>\n",
       "      <td>0</td>\n",
       "      <td>[-328.1553, 33.20999, -14.629965, 25.129225, -...</td>\n",
       "      <td>chinese</td>\n",
       "    </tr>\n",
       "    <tr>\n",
       "      <td>1</td>\n",
       "      <td>[-317.4969, 33.81309, -23.309122, 31.999235, -...</td>\n",
       "      <td>chinese</td>\n",
       "    </tr>\n",
       "    <tr>\n",
       "      <td>2</td>\n",
       "      <td>[-336.15854, 35.530407, -25.493, 18.644785, -2...</td>\n",
       "      <td>chinese</td>\n",
       "    </tr>\n",
       "    <tr>\n",
       "      <td>3</td>\n",
       "      <td>[-333.79565, 31.953947, -13.206911, 22.866724,...</td>\n",
       "      <td>chinese</td>\n",
       "    </tr>\n",
       "    <tr>\n",
       "      <td>4</td>\n",
       "      <td>[-354.22464, 45.220486, -17.17353, 27.299313, ...</td>\n",
       "      <td>chinese</td>\n",
       "    </tr>\n",
       "    <tr>\n",
       "      <td>...</td>\n",
       "      <td>...</td>\n",
       "      <td>...</td>\n",
       "    </tr>\n",
       "    <tr>\n",
       "      <td>64288</td>\n",
       "      <td>[-351.8527, 107.06704, -3.2553566, 47.231853, ...</td>\n",
       "      <td>spanish</td>\n",
       "    </tr>\n",
       "    <tr>\n",
       "      <td>64289</td>\n",
       "      <td>[-367.3681, 112.8195, -10.63875, 28.11285, 0.3...</td>\n",
       "      <td>spanish</td>\n",
       "    </tr>\n",
       "    <tr>\n",
       "      <td>64290</td>\n",
       "      <td>[-359.3411, 113.6945, -2.7332597, 25.764277, 2...</td>\n",
       "      <td>spanish</td>\n",
       "    </tr>\n",
       "    <tr>\n",
       "      <td>64291</td>\n",
       "      <td>[-327.3389, 131.14326, -6.5025754, 38.206024, ...</td>\n",
       "      <td>spanish</td>\n",
       "    </tr>\n",
       "    <tr>\n",
       "      <td>64292</td>\n",
       "      <td>[-329.231, 113.921745, -10.963554, 41.20751, -...</td>\n",
       "      <td>spanish</td>\n",
       "    </tr>\n",
       "  </tbody>\n",
       "</table>\n",
       "<p>64293 rows × 2 columns</p>\n",
       "</div>"
      ],
      "text/plain": [
       "                                                features    label\n",
       "0      [-328.1553, 33.20999, -14.629965, 25.129225, -...  chinese\n",
       "1      [-317.4969, 33.81309, -23.309122, 31.999235, -...  chinese\n",
       "2      [-336.15854, 35.530407, -25.493, 18.644785, -2...  chinese\n",
       "3      [-333.79565, 31.953947, -13.206911, 22.866724,...  chinese\n",
       "4      [-354.22464, 45.220486, -17.17353, 27.299313, ...  chinese\n",
       "...                                                  ...      ...\n",
       "64288  [-351.8527, 107.06704, -3.2553566, 47.231853, ...  spanish\n",
       "64289  [-367.3681, 112.8195, -10.63875, 28.11285, 0.3...  spanish\n",
       "64290  [-359.3411, 113.6945, -2.7332597, 25.764277, 2...  spanish\n",
       "64291  [-327.3389, 131.14326, -6.5025754, 38.206024, ...  spanish\n",
       "64292  [-329.231, 113.921745, -10.963554, 41.20751, -...  spanish\n",
       "\n",
       "[64293 rows x 2 columns]"
      ]
     },
     "execution_count": 70,
     "metadata": {},
     "output_type": "execute_result"
    }
   ],
   "source": [
    "df10 = df9.append(df10, ignore_index=True)\n",
    "df10"
   ]
  },
  {
   "cell_type": "code",
   "execution_count": 71,
   "metadata": {},
   "outputs": [],
   "source": [
    "# saving the feature columns and label as csv\n",
    "df10.to_csv('all_ten_lang_w_features.csv')"
   ]
  },
  {
   "cell_type": "markdown",
   "metadata": {},
   "source": [
    "You should end up with a dataset of the MFCC features of all the audio clips in one CSV"
   ]
  }
 ],
 "metadata": {
  "kernelspec": {
   "display_name": "Python 3",
   "language": "python",
   "name": "python3"
  },
  "language_info": {
   "codemirror_mode": {
    "name": "ipython",
    "version": 3
   },
   "file_extension": ".py",
   "mimetype": "text/x-python",
   "name": "python",
   "nbconvert_exporter": "python",
   "pygments_lexer": "ipython3",
   "version": "3.7.4"
  }
 },
 "nbformat": 4,
 "nbformat_minor": 4
}
