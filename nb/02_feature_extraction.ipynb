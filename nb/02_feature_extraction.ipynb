{
 "cells": [
  {
   "cell_type": "markdown",
   "metadata": {},
   "source": [
    "# Lost in Translation\n",
    "## Classifying Speech Language using Deep Learning "
   ]
  },
  {
   "cell_type": "markdown",
   "metadata": {},
   "source": [
    "### Part 2 - Feature Extration"
   ]
  },
  {
   "cell_type": "markdown",
   "metadata": {},
   "source": [
    "#### Import Library"
   ]
  },
  {
   "cell_type": "code",
   "execution_count": 1,
   "metadata": {},
   "outputs": [],
   "source": [
    "import os\n",
    "import numpy as np\n",
    "import pandas as pd\n",
    "import IPython.display as ipd\n",
    "import librosa\n",
    "import librosa.display\n",
    "from scipy.io import wavfile"
   ]
  },
  {
   "cell_type": "markdown",
   "metadata": {},
   "source": [
    "#### Extract MFCC"
   ]
  },
  {
   "cell_type": "code",
   "execution_count": 21,
   "metadata": {},
   "outputs": [],
   "source": [
    "def extract_features(file_name):\n",
    "   \n",
    "    try:\n",
    "        audio, sample_rate = librosa.load(file_name) \n",
    "        X = librosa.feature.mfcc(y=audio, sr=sample_rate, n_mfcc=40)\n",
    "        X_scaled = np.mean(X.T,axis=0)\n",
    "        \n",
    "    except Exception as e:\n",
    "        print(\"Error encountered while parsing file: \", file_name)\n",
    "        return None \n",
    "     \n",
    "    return X_scaled"
   ]
  },
  {
   "cell_type": "code",
   "execution_count": 41,
   "metadata": {},
   "outputs": [],
   "source": [
    "def save_feature(language, feature_lst):\n",
    "    path = \"../data/\"\n",
    "    lang_dir = os.path.join(path, language)\n",
    "    files = os.listdir(lang_dir)\n",
    "    for audio_track in files:\n",
    "        if audio_track[-3:] == 'wav':\n",
    "            track = os.path.join(lang_dir, audio_track)\n",
    "            features = extract_features(track)\n",
    "            feature_lst.append([features,language])\n",
    "        else:\n",
    "            continue"
   ]
  },
  {
   "cell_type": "code",
   "execution_count": null,
   "metadata": {},
   "outputs": [],
   "source": [
    "language = 'german'\n",
    "feature_lst5 = []\n",
    "save_feature(language, feature_lst5)"
   ]
  },
  {
   "cell_type": "code",
   "execution_count": 50,
   "metadata": {},
   "outputs": [],
   "source": [
    "df5 = pd.DataFrame(feature_lst5,columns=['features','label'])"
   ]
  },
  {
   "cell_type": "code",
   "execution_count": 51,
   "metadata": {},
   "outputs": [
    {
     "data": {
      "text/html": [
       "<div>\n",
       "<style scoped>\n",
       "    .dataframe tbody tr th:only-of-type {\n",
       "        vertical-align: middle;\n",
       "    }\n",
       "\n",
       "    .dataframe tbody tr th {\n",
       "        vertical-align: top;\n",
       "    }\n",
       "\n",
       "    .dataframe thead th {\n",
       "        text-align: right;\n",
       "    }\n",
       "</style>\n",
       "<table border=\"1\" class=\"dataframe\">\n",
       "  <thead>\n",
       "    <tr style=\"text-align: right;\">\n",
       "      <th></th>\n",
       "      <th>features</th>\n",
       "      <th>label</th>\n",
       "    </tr>\n",
       "  </thead>\n",
       "  <tbody>\n",
       "    <tr>\n",
       "      <td>0</td>\n",
       "      <td>[-328.1553, 33.20999, -14.629965, 25.129225, -...</td>\n",
       "      <td>chinese</td>\n",
       "    </tr>\n",
       "    <tr>\n",
       "      <td>1</td>\n",
       "      <td>[-317.4969, 33.81309, -23.309122, 31.999235, -...</td>\n",
       "      <td>chinese</td>\n",
       "    </tr>\n",
       "    <tr>\n",
       "      <td>2</td>\n",
       "      <td>[-336.15854, 35.530407, -25.493, 18.644785, -2...</td>\n",
       "      <td>chinese</td>\n",
       "    </tr>\n",
       "    <tr>\n",
       "      <td>3</td>\n",
       "      <td>[-333.79565, 31.953947, -13.206911, 22.866724,...</td>\n",
       "      <td>chinese</td>\n",
       "    </tr>\n",
       "    <tr>\n",
       "      <td>4</td>\n",
       "      <td>[-354.22464, 45.220486, -17.17353, 27.299313, ...</td>\n",
       "      <td>chinese</td>\n",
       "    </tr>\n",
       "    <tr>\n",
       "      <td>...</td>\n",
       "      <td>...</td>\n",
       "      <td>...</td>\n",
       "    </tr>\n",
       "    <tr>\n",
       "      <td>22951</td>\n",
       "      <td>[-332.39795, 84.24227, -8.463333, 42.381344, 2...</td>\n",
       "      <td>french</td>\n",
       "    </tr>\n",
       "    <tr>\n",
       "      <td>22952</td>\n",
       "      <td>[-371.79144, 101.81703, -4.2129374, 38.500877,...</td>\n",
       "      <td>french</td>\n",
       "    </tr>\n",
       "    <tr>\n",
       "      <td>22953</td>\n",
       "      <td>[-398.16678, 82.64107, 2.2017193, 33.466743, 1...</td>\n",
       "      <td>french</td>\n",
       "    </tr>\n",
       "    <tr>\n",
       "      <td>22954</td>\n",
       "      <td>[-449.00085, 84.43219, 14.8367815, 45.092014, ...</td>\n",
       "      <td>french</td>\n",
       "    </tr>\n",
       "    <tr>\n",
       "      <td>22955</td>\n",
       "      <td>[-417.54507, 72.421326, 8.06951, 27.736153, 8....</td>\n",
       "      <td>french</td>\n",
       "    </tr>\n",
       "  </tbody>\n",
       "</table>\n",
       "<p>22956 rows × 2 columns</p>\n",
       "</div>"
      ],
      "text/plain": [
       "                                                features    label\n",
       "0      [-328.1553, 33.20999, -14.629965, 25.129225, -...  chinese\n",
       "1      [-317.4969, 33.81309, -23.309122, 31.999235, -...  chinese\n",
       "2      [-336.15854, 35.530407, -25.493, 18.644785, -2...  chinese\n",
       "3      [-333.79565, 31.953947, -13.206911, 22.866724,...  chinese\n",
       "4      [-354.22464, 45.220486, -17.17353, 27.299313, ...  chinese\n",
       "...                                                  ...      ...\n",
       "22951  [-332.39795, 84.24227, -8.463333, 42.381344, 2...   french\n",
       "22952  [-371.79144, 101.81703, -4.2129374, 38.500877,...   french\n",
       "22953  [-398.16678, 82.64107, 2.2017193, 33.466743, 1...   french\n",
       "22954  [-449.00085, 84.43219, 14.8367815, 45.092014, ...   french\n",
       "22955  [-417.54507, 72.421326, 8.06951, 27.736153, 8....   french\n",
       "\n",
       "[22956 rows x 2 columns]"
      ]
     },
     "execution_count": 51,
     "metadata": {},
     "output_type": "execute_result"
    }
   ],
   "source": [
    "df5 = df4.append(df5, ignore_index=True)\n",
    "df5"
   ]
  }
 ],
 "metadata": {
  "kernelspec": {
   "display_name": "Python 3",
   "language": "python",
   "name": "python3"
  },
  "language_info": {
   "codemirror_mode": {
    "name": "ipython",
    "version": 3
   },
   "file_extension": ".py",
   "mimetype": "text/x-python",
   "name": "python",
   "nbconvert_exporter": "python",
   "pygments_lexer": "ipython3",
   "version": "3.7.4"
  }
 },
 "nbformat": 4,
 "nbformat_minor": 4
}
