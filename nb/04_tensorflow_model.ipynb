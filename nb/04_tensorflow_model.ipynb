{
 "cells": [
  {
   "cell_type": "markdown",
   "metadata": {},
   "source": [
    "# Lost in Translation\n",
    "## Classifying Speech Language using Deep Learning\n",
    "\n",
    "### Part 4 - Tensorflow"
   ]
  },
  {
   "cell_type": "markdown",
   "metadata": {},
   "source": [
    "#### Import library"
   ]
  },
  {
   "cell_type": "code",
   "execution_count": 40,
   "metadata": {},
   "outputs": [],
   "source": [
    "import os\n",
    "import numpy as np\n",
    "import pandas as pd\n",
    "\n",
    "import IPython.display as ipd\n",
    "import librosa\n",
    "import librosa.display\n",
    "from scipy.io import wavfile\n",
    "\n",
    "from sklearn.preprocessing import LabelEncoder\n",
    "from sklearn.model_selection import train_test_split\n",
    "\n",
    "import tensorflow as tf\n",
    "from tensorflow.keras.utils import to_categorical\n",
    "from tensorflow.keras.models import Sequential\n",
    "from tensorflow.keras.layers import Dense, Dropout, Convolution2D, Conv2D, MaxPooling2D, GlobalAveragePooling2D, Flatten"
   ]
  },
  {
   "cell_type": "markdown",
   "metadata": {},
   "source": [
    "#### Load data"
   ]
  },
  {
   "cell_type": "code",
   "execution_count": 3,
   "metadata": {},
   "outputs": [],
   "source": [
    "df = pd.read_pickle('df_all.pkl')"
   ]
  },
  {
   "cell_type": "code",
   "execution_count": 4,
   "metadata": {},
   "outputs": [
    {
     "data": {
      "text/html": [
       "<div>\n",
       "<style scoped>\n",
       "    .dataframe tbody tr th:only-of-type {\n",
       "        vertical-align: middle;\n",
       "    }\n",
       "\n",
       "    .dataframe tbody tr th {\n",
       "        vertical-align: top;\n",
       "    }\n",
       "\n",
       "    .dataframe thead th {\n",
       "        text-align: right;\n",
       "    }\n",
       "</style>\n",
       "<table border=\"1\" class=\"dataframe\">\n",
       "  <thead>\n",
       "    <tr style=\"text-align: right;\">\n",
       "      <th></th>\n",
       "      <th>features</th>\n",
       "      <th>label</th>\n",
       "    </tr>\n",
       "  </thead>\n",
       "  <tbody>\n",
       "    <tr>\n",
       "      <th>0</th>\n",
       "      <td>[-328.1553, 33.20999, -14.629965, 25.129225, -...</td>\n",
       "      <td>chinese</td>\n",
       "    </tr>\n",
       "    <tr>\n",
       "      <th>1</th>\n",
       "      <td>[-317.4969, 33.81309, -23.309122, 31.999235, -...</td>\n",
       "      <td>chinese</td>\n",
       "    </tr>\n",
       "    <tr>\n",
       "      <th>2</th>\n",
       "      <td>[-336.15854, 35.530407, -25.493, 18.644785, -2...</td>\n",
       "      <td>chinese</td>\n",
       "    </tr>\n",
       "    <tr>\n",
       "      <th>3</th>\n",
       "      <td>[-333.79565, 31.953947, -13.206911, 22.866724,...</td>\n",
       "      <td>chinese</td>\n",
       "    </tr>\n",
       "    <tr>\n",
       "      <th>4</th>\n",
       "      <td>[-354.22464, 45.220486, -17.17353, 27.299313, ...</td>\n",
       "      <td>chinese</td>\n",
       "    </tr>\n",
       "    <tr>\n",
       "      <th>...</th>\n",
       "      <td>...</td>\n",
       "      <td>...</td>\n",
       "    </tr>\n",
       "    <tr>\n",
       "      <th>64288</th>\n",
       "      <td>[-351.8527, 107.06704, -3.2553566, 47.231853, ...</td>\n",
       "      <td>spanish</td>\n",
       "    </tr>\n",
       "    <tr>\n",
       "      <th>64289</th>\n",
       "      <td>[-367.3681, 112.8195, -10.63875, 28.11285, 0.3...</td>\n",
       "      <td>spanish</td>\n",
       "    </tr>\n",
       "    <tr>\n",
       "      <th>64290</th>\n",
       "      <td>[-359.3411, 113.6945, -2.7332597, 25.764277, 2...</td>\n",
       "      <td>spanish</td>\n",
       "    </tr>\n",
       "    <tr>\n",
       "      <th>64291</th>\n",
       "      <td>[-327.3389, 131.14326, -6.5025754, 38.206024, ...</td>\n",
       "      <td>spanish</td>\n",
       "    </tr>\n",
       "    <tr>\n",
       "      <th>64292</th>\n",
       "      <td>[-329.231, 113.921745, -10.963554, 41.20751, -...</td>\n",
       "      <td>spanish</td>\n",
       "    </tr>\n",
       "  </tbody>\n",
       "</table>\n",
       "<p>64293 rows × 2 columns</p>\n",
       "</div>"
      ],
      "text/plain": [
       "                                                features    label\n",
       "0      [-328.1553, 33.20999, -14.629965, 25.129225, -...  chinese\n",
       "1      [-317.4969, 33.81309, -23.309122, 31.999235, -...  chinese\n",
       "2      [-336.15854, 35.530407, -25.493, 18.644785, -2...  chinese\n",
       "3      [-333.79565, 31.953947, -13.206911, 22.866724,...  chinese\n",
       "4      [-354.22464, 45.220486, -17.17353, 27.299313, ...  chinese\n",
       "...                                                  ...      ...\n",
       "64288  [-351.8527, 107.06704, -3.2553566, 47.231853, ...  spanish\n",
       "64289  [-367.3681, 112.8195, -10.63875, 28.11285, 0.3...  spanish\n",
       "64290  [-359.3411, 113.6945, -2.7332597, 25.764277, 2...  spanish\n",
       "64291  [-327.3389, 131.14326, -6.5025754, 38.206024, ...  spanish\n",
       "64292  [-329.231, 113.921745, -10.963554, 41.20751, -...  spanish\n",
       "\n",
       "[64293 rows x 2 columns]"
      ]
     },
     "execution_count": 4,
     "metadata": {},
     "output_type": "execute_result"
    }
   ],
   "source": [
    "df"
   ]
  },
  {
   "cell_type": "markdown",
   "metadata": {},
   "source": [
    "#### Get feature matrix"
   ]
  },
  {
   "cell_type": "code",
   "execution_count": 5,
   "metadata": {},
   "outputs": [],
   "source": [
    "# use label encoder to convert the language labels to numeric target column\n",
    "encoder = LabelEncoder()\n",
    "encoder.fit(df['label'])\n",
    "labels = encoder.classes_\n",
    "y = encoder.transform(df['label'])"
   ]
  },
  {
   "cell_type": "code",
   "execution_count": 6,
   "metadata": {},
   "outputs": [],
   "source": [
    "# Convert feature matrix into a keras-friendly format\n",
    "X = np.array(df['features'].tolist())"
   ]
  },
  {
   "cell_type": "markdown",
   "metadata": {},
   "source": [
    "#### Train_test split"
   ]
  },
  {
   "cell_type": "code",
   "execution_count": 10,
   "metadata": {},
   "outputs": [],
   "source": [
    "seed = 99\n",
    "X_train, X_test, y_train, y_test = train_test_split(X,y,test_size = 0.1, random_state = seed, shuffle = True)"
   ]
  },
  {
   "cell_type": "markdown",
   "metadata": {},
   "source": [
    "#### Build a CNN"
   ]
  },
  {
   "cell_type": "code",
   "execution_count": 28,
   "metadata": {},
   "outputs": [],
   "source": [
    "# reshape the input into \"images\"\n",
    "X_train = X_train.reshape(X_train.shape[0], 10, 4, 1)\n",
    "X_test = X_test.reshape(X_test.shape[0], 10, 4, 1)"
   ]
  },
  {
   "cell_type": "code",
   "execution_count": 33,
   "metadata": {},
   "outputs": [
    {
     "name": "stdout",
     "output_type": "stream",
     "text": [
      "(57863, 10, 4, 1)\n",
      "(6430, 10, 4, 1)\n",
      "(57863,)\n",
      "(6430,)\n"
     ]
    }
   ],
   "source": [
    "# Check the shape of the inputs and outputs\n",
    "print(X_train.shape)\n",
    "print(X_test.shape)\n",
    "print(y_train.shape)\n",
    "print(y_test.shape)"
   ]
  },
  {
   "cell_type": "code",
   "execution_count": 36,
   "metadata": {},
   "outputs": [
    {
     "data": {
      "text/plain": [
       "array([8, 8, 8, ..., 8, 4, 4])"
      ]
     },
     "execution_count": 36,
     "metadata": {},
     "output_type": "execute_result"
    }
   ],
   "source": [
    "y_train"
   ]
  },
  {
   "cell_type": "code",
   "execution_count": 34,
   "metadata": {},
   "outputs": [
    {
     "name": "stdout",
     "output_type": "stream",
     "text": [
      "Epoch 1/10\n",
      "1809/1809 [==============================] - 2s 926us/step - loss: 8.4640 - accuracy: 0.8248\n",
      "Epoch 2/10\n",
      "1809/1809 [==============================] - 2s 929us/step - loss: 0.0386 - accuracy: 0.9904\n",
      "Epoch 3/10\n",
      "1809/1809 [==============================] - 2s 929us/step - loss: 0.0149 - accuracy: 0.9961\n",
      "Epoch 4/10\n",
      "1809/1809 [==============================] - 2s 929us/step - loss: 0.0084 - accuracy: 0.9975\n",
      "Epoch 5/10\n",
      "1809/1809 [==============================] - 2s 929us/step - loss: 0.0057 - accuracy: 0.9984\n",
      "Epoch 6/10\n",
      "1809/1809 [==============================] - 2s 921us/step - loss: 0.0040 - accuracy: 0.9987\n",
      "Epoch 7/10\n",
      "1809/1809 [==============================] - 2s 925us/step - loss: 0.0039 - accuracy: 0.9987\n",
      "Epoch 8/10\n",
      "1809/1809 [==============================] - 2s 926us/step - loss: 0.0032 - accuracy: 0.9990\n",
      "Epoch 9/10\n",
      "1809/1809 [==============================] - 2s 925us/step - loss: 0.0023 - accuracy: 0.9994\n",
      "Epoch 10/10\n",
      "1809/1809 [==============================] - 2s 918us/step - loss: 0.0027 - accuracy: 0.9992\n"
     ]
    },
    {
     "data": {
      "text/plain": [
       "<tensorflow.python.keras.callbacks.History at 0x7f3ad1458350>"
      ]
     },
     "execution_count": 34,
     "metadata": {},
     "output_type": "execute_result"
    }
   ],
   "source": [
    "model = Sequential()\n",
    "model.add(Flatten(input_shape=(10, 4)))\n",
    "model.add(Dense(10, activation='softmax'))\n",
    "model.compile(optimizer='adam',\n",
    "              loss='sparse_categorical_crossentropy',\n",
    "              metrics=['accuracy'])\n",
    "model.fit(X_train, y_train, epochs=10, verbose=1)"
   ]
  },
  {
   "cell_type": "code",
   "execution_count": 35,
   "metadata": {},
   "outputs": [
    {
     "name": "stdout",
     "output_type": "stream",
     "text": [
      "201/201 [==============================] - 0s 875us/step - loss: 0.0043 - accuracy: 0.9988\n",
      "\n",
      "Test accuracy 99.88%\n"
     ]
    }
   ],
   "source": [
    "test_loss, test_acc = model.evaluate(X_test, y_test, verbose=1)\n",
    "print('\\nTest accuracy {:5.2f}%'.format(100*test_acc))"
   ]
  },
  {
   "cell_type": "code",
   "execution_count": 37,
   "metadata": {},
   "outputs": [
    {
     "name": "stdout",
     "output_type": "stream",
     "text": [
      "WARNING:tensorflow:From /home/ec2-user/anaconda3/lib/python3.7/site-packages/tensorflow/python/ops/resource_variable_ops.py:1817: calling BaseResourceVariable.__init__ (from tensorflow.python.ops.resource_variable_ops) with constraint is deprecated and will be removed in a future version.\n",
      "Instructions for updating:\n",
      "If using Keras pass *_constraint arguments to layers.\n",
      "INFO:tensorflow:Assets written to: ../saved_model/20200602/assets\n"
     ]
    }
   ],
   "source": [
    "# model.save('../saved_model/20200602/') "
   ]
  },
  {
   "cell_type": "markdown",
   "metadata": {},
   "source": [
    "# Prediction test using personal recording"
   ]
  },
  {
   "cell_type": "code",
   "execution_count": 38,
   "metadata": {},
   "outputs": [],
   "source": [
    "import os\n",
    "import numpy as np\n",
    "import pandas as pd\n",
    "import IPython.display as ipd\n",
    "import librosa\n",
    "import librosa.display\n",
    "from scipy.io import wavfile\n",
    "\n",
    "def extract_features(file_name):\n",
    "    try:\n",
    "        audio, sample_rate = librosa.load(file_name) \n",
    "        X = librosa.feature.mfcc(y=audio, sr=sample_rate, n_mfcc=40)\n",
    "        X_scaled = np.mean(X.T,axis=0)\n",
    "        \n",
    "    except Exception as e:\n",
    "        print(\"Error encountered while parsing file: \", file_name)\n",
    "        return None\n",
    "     \n",
    "    return X_scaled"
   ]
  },
  {
   "cell_type": "code",
   "execution_count": 57,
   "metadata": {},
   "outputs": [
    {
     "data": {
      "text/html": [
       "\n",
       "                <audio  controls=\"controls\" >\n",
       "                    <source src=\"data:audio/x-wav;base64,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\" type=\"audio/x-wav\" />\n",
       "                    Your browser does not support the audio element.\n",
       "                </audio>\n",
       "              "
      ],
      "text/plain": [
       "<IPython.lib.display.Audio object>"
      ]
     },
     "execution_count": 57,
     "metadata": {},
     "output_type": "execute_result"
    }
   ],
   "source": [
    "sample_path = '../test/test2.wav'\n",
    "ipd.Audio(sample_path)"
   ]
  },
  {
   "cell_type": "code",
   "execution_count": 58,
   "metadata": {},
   "outputs": [],
   "source": [
    "test_case = extract_features('../test/test2.wav')\n",
    "test_case = test_case.reshape(1, 10, 4, 1)"
   ]
  },
  {
   "cell_type": "code",
   "execution_count": 59,
   "metadata": {},
   "outputs": [
    {
     "name": "stdout",
     "output_type": "stream",
     "text": [
      "finnish\n"
     ]
    }
   ],
   "source": [
    "predicted = np.argmax(model.predict(test_case))\n",
    "print(labels[predicted])"
   ]
  }
 ],
 "metadata": {
  "kernelspec": {
   "display_name": "Python 3",
   "language": "python",
   "name": "python3"
  },
  "language_info": {
   "codemirror_mode": {
    "name": "ipython",
    "version": 3
   },
   "file_extension": ".py",
   "mimetype": "text/x-python",
   "name": "python",
   "nbconvert_exporter": "python",
   "pygments_lexer": "ipython3",
   "version": "3.7.6"
  }
 },
 "nbformat": 4,
 "nbformat_minor": 4
}
